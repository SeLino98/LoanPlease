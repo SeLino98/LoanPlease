{
 "cells": [
  {
   "cell_type": "code",
   "id": "initial_id",
   "metadata": {
    "collapsed": true,
    "ExecuteTime": {
     "end_time": "2024-04-25T05:49:13.459782Z",
     "start_time": "2024-04-25T05:49:13.456607Z"
    }
   },
   "source": [
    "%%writefile fastapiautorestart.py\n",
    "\n",
    "import subprocess\n",
    "from watchdog.observers import Observer\n",
    "from watchdog.events import FileSystemEventHandler\n",
    "\n",
    "class FastAPIRestartHandler(FileSystemEventHandler):\n",
    "    def __init__(self, script_path):\n",
    "        self.script_path = script_path\n",
    "        self.process = None\n",
    "        self.start_process()\n",
    "\n",
    "    def start_process(self):\n",
    "        # FastAPI 서버를 시작하는 데 사용되는 스크립트 실행\n",
    "        if self.process:\n",
    "            self.process.kill()  # 기존 프로세스가 있다면 종료\n",
    "        self.process = subprocess.Popen(['uvicorn', 'main:app', '--host', '0.0.0.0', '--port', '8000'], stdout=subprocess.PIPE)\n",
    "\n",
    "    def on_modified(self, event):\n",
    "        # 특정 파일이 수정되었을 때만 반응\n",
    "        if event.src_path == self.script_path:\n",
    "            print(f'Changes detected in {event.src_path}. Restarting FastAPI server...')\n",
    "            self.start_process()\n",
    "\n",
    "if __name__ == \"__main__\":\n",
    "    path = '/home/j-k10d105/'  # 감시할 파일 또는 디렉토리 경로\n",
    "    script_file = path+'model.pkl'  # 감시할 특정 파일\n",
    "    event_handler = FastAPIRestartHandler(script_file)\n",
    "    observer = Observer()\n",
    "    observer.schedule(event_handler, path, recursive=False)\n",
    "    observer.start()\n",
    "\n",
    "    try:\n",
    "        while True:\n",
    "            # 스크립트가 계속 실행되도록 유지\n",
    "            pass\n",
    "    except KeyboardInterrupt:\n",
    "        observer.stop()\n",
    "\n",
    "    observer.join()\n"
   ],
   "outputs": [
    {
     "name": "stdout",
     "output_type": "stream",
     "text": [
      "Overwriting fastapiautorestart.py\n"
     ]
    }
   ],
   "execution_count": 3
  },
  {
   "metadata": {},
   "cell_type": "code",
   "outputs": [],
   "execution_count": null,
   "source": "",
   "id": "6241909ff0f017f4"
  }
 ],
 "metadata": {
  "kernelspec": {
   "display_name": "Python 3",
   "language": "python",
   "name": "python3"
  },
  "language_info": {
   "codemirror_mode": {
    "name": "ipython",
    "version": 2
   },
   "file_extension": ".py",
   "mimetype": "text/x-python",
   "name": "python",
   "nbconvert_exporter": "python",
   "pygments_lexer": "ipython2",
   "version": "2.7.6"
  }
 },
 "nbformat": 4,
 "nbformat_minor": 5
}
