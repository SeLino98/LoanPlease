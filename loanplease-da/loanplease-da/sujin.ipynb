{
 "cells": [
  {
   "cell_type": "code",
   "id": "initial_id",
   "metadata": {
    "collapsed": true,
    "ExecuteTime": {
     "end_time": "2024-04-24T07:25:45.537558Z",
     "start_time": "2024-04-24T07:25:45.535320Z"
    }
   },
   "source": [
    "import pandas as pd\n",
    "import numpy as np\n",
    "import matplotlib.pyplot as plt\n",
    "import seaborn as sns\n",
    "from collections import Counter\n",
    "import warnings\n",
    "warnings.filterwarnings('ignore')"
   ],
   "outputs": [],
   "execution_count": null
  },
  {
   "metadata": {},
   "cell_type": "code",
   "source": [
    "# 파일 불러보기\n",
    "train = pd.read_csv('../../dataset/train.csv')\n",
    "test = pd.read_csv('../../dataset/test.csv')"
   ],
   "id": "7c2a5ba235590136",
   "outputs": [],
   "execution_count": null
  },
  {
   "metadata": {},
   "cell_type": "code",
   "source": [
    "# 원본 파일 복사해놓기\n",
    "original = train.copy()"
   ],
   "id": "89f07c2255ff8f67",
   "outputs": [],
   "execution_count": null
  },
  {
   "metadata": {},
   "cell_type": "code",
   "source": "train.head()",
   "id": "771c6a5115e9e364",
   "outputs": [],
   "execution_count": null
  },
  {
   "metadata": {},
   "cell_type": "code",
   "source": [
    "def getStatics(columnName : str) :\n",
    "    print(train[columnName].mean())\n",
    "    print(f'{train[columnName].min()} ~ {train[columnName].max()}')"
   ],
   "id": "bb4756e86d88997c",
   "outputs": [],
   "execution_count": null
  },
  {
   "metadata": {},
   "cell_type": "code",
   "source": "getStatics('family_size')",
   "id": "4ce1a5065861ec0d",
   "outputs": [],
   "execution_count": null
  },
  {
   "metadata": {},
   "cell_type": "code",
   "source": [
    "# occyp_type이 null 값이 존재한다.\n",
    "# crdit 형변환 필요\n",
    "train.info()"
   ],
   "id": "1b440ac9f87d9869",
   "outputs": [],
   "execution_count": null
  },
  {
   "metadata": {},
   "cell_type": "code",
   "source": [
    "# credit 형변환\n",
    "train = train.astype({'credit' : 'object'})\n",
    "print(train.dtypes)"
   ],
   "id": "b0d9cf99a2b02175",
   "outputs": [],
   "execution_count": null
  },
  {
   "metadata": {},
   "cell_type": "code",
   "source": [
    "plt.subplots(figsize=(8,8))\n",
    "plt.pie(train['credit'].value_counts(), labels=train.credit.value_counts().index, autopct='%.2f%%', shadow=True, startangle=90)\n",
    "plt.title(\"Credit Card Distribution\", size=24)\n",
    "plt.show()"
   ],
   "id": "e2736f4ce09d7a04",
   "outputs": [],
   "execution_count": null
  },
  {
   "metadata": {},
   "cell_type": "markdown",
   "source": "### 낮은 등급의 신용을 가진 사용자가 많다.",
   "id": "b30af3bace43fb6a"
  },
  {
   "metadata": {},
   "cell_type": "code",
   "source": [
    "# 등급별 차이 보기\n",
    "train_0 = train[train['credit'] == 0.0]\n",
    "train_1 = train[train['credit'] == 1.0]\n",
    "train_2 = train[train['credit'] == 2.0]"
   ],
   "id": "f374df676ba87a91",
   "outputs": [],
   "execution_count": null
  },
  {
   "metadata": {},
   "cell_type": "code",
   "source": [
    "# Categorical 그래프 함수 정의\n",
    "def cat_plot(column):\n",
    "    f, ax = plt.subplots(1,3,figsize=(16,6))\n",
    "    sns.countplot(x=column, data=train_0, ax=ax[0],\n",
    "                  order=train_0[column].value_counts().index)\n",
    "    ax[0].tick_params(labelsize=12)\n",
    "    ax[0].set_title('credit = 0')\n",
    "    ax[0].set_ylabel('count')\n",
    "    ax[0].tick_params(rotation=50)\n",
    "    \n",
    "    sns.countplot(x=column, data=train_1, ax=ax[1],\n",
    "                  order=train_1[column].value_counts().index)\n",
    "    ax[1].tick_params(labelsize=12)\n",
    "    ax[1].set_title('credit = 1')\n",
    "    ax[1].set_ylabel('count')\n",
    "    ax[1].tick_params(rotation=50)\n",
    "     \n",
    "    sns.countplot(x=column, data=train_2, ax=ax[2],\n",
    "                  order=train_2[column].value_counts().index)\n",
    "    ax[2].tick_params(labelsize=12)\n",
    "    ax[2].set_title('credit = 2')\n",
    "    ax[2].set_ylabel('count')\n",
    "    ax[2].tick_params(rotation=50)\n",
    "    plt.subplots_adjust(wspace=0.3, hspace=0.3)\n",
    "    plt.show()\n"
   ],
   "id": "118d2a00797fc84c",
   "outputs": [],
   "execution_count": null
  },
  {
   "metadata": {},
   "cell_type": "code",
   "source": [
    "# 성별 차이? \n",
    "cat_plot('gender')"
   ],
   "id": "dea7a4db63d35a41",
   "outputs": [],
   "execution_count": null
  },
  {
   "metadata": {},
   "cell_type": "code",
   "source": [
    "# 신용 등급에 따라 차량 소유 차이가 존재할까?\n",
    "cat_plot('car')"
   ],
   "id": "efe01388b2e9299d",
   "outputs": [],
   "execution_count": null
  },
  {
   "metadata": {},
   "cell_type": "code",
   "source": [
    "# 신용 등급에 따른 부동산 소유 차이는 존재활까?\n",
    "cat_plot('reality')"
   ],
   "id": "bdc5fbc3d07d2eef",
   "outputs": [],
   "execution_count": null
  },
  {
   "metadata": {},
   "cell_type": "code",
   "source": [
    "# 신용 등급에 따라 소득 분류 차이가 존재할까?\n",
    "cat_plot('income_type')"
   ],
   "id": "9fba2b4c2dae4829",
   "outputs": [],
   "execution_count": null
  },
  {
   "metadata": {},
   "cell_type": "markdown",
   "source": "높은 등급(0)에서는 학생이 나타나지 않음.",
   "id": "fa1d5b4745a76ea0"
  },
  {
   "metadata": {},
   "cell_type": "code",
   "source": [
    "# 신용 등급에 따른 교육 수준 차이 존재?\n",
    "cat_plot('edu_type')"
   ],
   "id": "fef6733744dc2ba2",
   "outputs": [],
   "execution_count": null
  },
  {
   "metadata": {},
   "cell_type": "code",
   "source": [
    "# 신용 등급에 따른 결혼 여부 차이 존재?\n",
    "cat_plot('family_type')"
   ],
   "id": "66a18869f7f3ad3d",
   "outputs": [],
   "execution_count": null
  },
  {
   "metadata": {},
   "cell_type": "code",
   "source": [
    "# 신용 등급에 따라 생활 방식 차이가 존재?\n",
    "cat_plot('house_type')"
   ],
   "id": "ac1a5771700d46a8",
   "outputs": [],
   "execution_count": null
  },
  {
   "metadata": {},
   "cell_type": "code",
   "source": [
    "# 신용 등급에 따라 핸드폰 소지 차이?\n",
    "cat_plot('FLAG_MOBIL')  "
   ],
   "id": "321bef240d6790fd",
   "outputs": [],
   "execution_count": null
  },
  {
   "metadata": {},
   "cell_type": "code",
   "source": [
    "# 신용 등급에 따라 가정용 전화 소유 차이가 존재?\n",
    "cat_plot('work_phone')"
   ],
   "id": "9b8be84f5be2a52",
   "outputs": [],
   "execution_count": null
  },
  {
   "metadata": {},
   "cell_type": "code",
   "source": [
    "# 신용 등급에 따라 이메일 소유 차이가 존재?\n",
    "cat_plot('email')"
   ],
   "id": "4acbb9aa42a04259",
   "outputs": [],
   "execution_count": null
  },
  {
   "metadata": {},
   "cell_type": "code",
   "source": [
    "# 직업유형의 차이?\n",
    "# 결측치 -> 직업 없음으로 처리\n",
    "train.info()\n",
    "train_0 = train_0.fillna({'occyp_type':'No job'})\n",
    "train_1 = train_1.fillna({'occyp_type':'No job'})\n",
    "train_2 = train_2.fillna({'occyp_type':'No job'})"
   ],
   "id": "59a55c4f8859f178",
   "outputs": [],
   "execution_count": null
  },
  {
   "metadata": {},
   "cell_type": "code",
   "source": "train_0.info()",
   "id": "bb35d2101da61d85",
   "outputs": [],
   "execution_count": null
  },
  {
   "metadata": {},
   "cell_type": "code",
   "source": [
    "f, ax = plt.subplots(1, 3, figsize=(16, 6))\n",
    "sns.countplot(y = 'occyp_type', data = train_0, order = train_0['occyp_type'].value_counts().index, ax=ax[0])\n",
    "sns.countplot(y = 'occyp_type', data = train_1, order = train_1['occyp_type'].value_counts().index, ax=ax[1])\n",
    "sns.countplot(y = 'occyp_type', data = train_2, order = train_2['occyp_type'].value_counts().index, ax=ax[2])\n",
    "plt.subplots_adjust(wspace=0.5, hspace=0.3)\n",
    "plt.show()"
   ],
   "id": "6060d882d8bc66db",
   "outputs": [],
   "execution_count": null
  },
  {
   "metadata": {},
   "cell_type": "markdown",
   "source": "부동산 중개자의 경우 신용등급이 높은 편이다.",
   "id": "88508ee2f3d38b53"
  },
  {
   "metadata": {},
   "cell_type": "code",
   "source": [
    "# Categorical 그래프 함수 정의\n",
    "def occyp_plot(type):\n",
    "    data = train[train['occyp_type'] == type]\n",
    "    data.fillna({'occyp_type':'No job'}, inplace=True)\n",
    "    plt.figure(figsize=(16,6))\n",
    "    ax = sns.countplot(x='credit', data=data,\n",
    "                  order=data.credit.value_counts().index)\n",
    "    ax.set_title(type)\n",
    "    ax.set_ylabel('count')\n",
    "    \n",
    "    plt.subplots_adjust(wspace=0.3, hspace=0.3)\n",
    "    plt.show()\n"
   ],
   "id": "c7ff464d0744cad",
   "outputs": [],
   "execution_count": null
  },
  {
   "metadata": {},
   "cell_type": "code",
   "source": [
    "# 절대적인 수를 고려하지 않고 비율로 판단\n",
    "\n",
    "def occyp_ratio_plot(type):\n",
    "    data = train[train['occyp_type'] == type]\n",
    "    data.fillna({'occyp_type':'No job'}, inplace=True)  # inplace=True를 추가하여 데이터에 직접 적용\n",
    "    \n",
    "    # credit의 각 값에 대한 카운트 계산\n",
    "    credit_counts = data['credit'].value_counts(normalize=True) * 100  # 비율을 백분율로 계산\n",
    "    \n",
    "    plt.figure(figsize=(10, 6))\n",
    "    ax = plt.bar(credit_counts.index, credit_counts.values)  # bar 그래프로 그리기\n",
    "    \n",
    "    plt.title(f'Percentage of credits for {type}')\n",
    "    plt.xlabel('Credit')\n",
    "    plt.ylabel('Percentage (%)')\n",
    "    plt.xticks([0, 1, 2])  # x축 눈금 설정\n",
    "    plt.ylim(0, 100)  # y축의 범위를 0-100%로 설정\n",
    "    \n",
    "    for i in ax.patches:  # 각 막대에 텍스트 추가\n",
    "        plt.text(i.get_x() + i.get_width() / 2, i.get_height() + 1, f'{i.get_height():.2f}%', ha='center')\n",
    "    \n",
    "    plt.show()\n",
    "\n",
    "# 사용 예시\n",
    "# occyp_plot('Manager')\n"
   ],
   "id": "2401c4d305bc1a31",
   "outputs": [],
   "execution_count": null
  },
  {
   "metadata": {},
   "cell_type": "code",
   "source": [
    "for type in train['occyp_type'].unique():\n",
    "    occyp_plot(type)"
   ],
   "id": "133e50afb28d9fca",
   "outputs": [],
   "execution_count": null
  },
  {
   "metadata": {},
   "cell_type": "code",
   "source": [
    "for type in train['occyp_type'].unique():\n",
    "    occyp_ratio_plot(type)"
   ],
   "id": "7f317f47ad05d77f",
   "outputs": [],
   "execution_count": null
  },
  {
   "metadata": {},
   "cell_type": "markdown",
   "source": [
    "부동산 중개자의 경우 신용 등급이 높을 확률이 크다.\n",
    "반대로, HR staff의 경우 신용 등급이 낮을 확률이 크다."
   ],
   "id": "b782535bfe4e1811"
  },
  {
   "metadata": {},
   "cell_type": "markdown",
   "source": "## Numeric Varaible EDA",
   "id": "26573701d2beade"
  },
  {
   "metadata": {},
   "cell_type": "code",
   "source": [
    "# Numerical 그래프 함수 정의\n",
    "def num_plot(column):\n",
    "  \n",
    "  fig, axes = plt.subplots(1, 3, figsize=(16, 6))\n",
    "\n",
    "\n",
    "  sns.distplot(train_0[column],ax = axes[0])\n",
    "  axes[0].tick_params(labelsize=12)\n",
    "  axes[0].set_title('credit = 0')\n",
    "  axes[0].set_ylabel('count')\n",
    "\n",
    "  sns.distplot(train_1[column],ax = axes[1])\n",
    "  axes[1].tick_params(labelsize=12)\n",
    "  axes[1].set_title('credit = 1')\n",
    "  axes[1].set_ylabel('count')\n",
    "\n",
    "  sns.distplot(train_2[column],ax = axes[2])\n",
    "  axes[2].tick_params(labelsize=12)\n",
    "  axes[2].set_title('credit = 2')\n",
    "  axes[2].set_ylabel('count')\n",
    "  plt.subplots_adjust(wspace=0.3, hspace=0.3)"
   ],
   "id": "f68380e3a8bc9261",
   "outputs": [],
   "execution_count": null
  },
  {
   "metadata": {},
   "cell_type": "code",
   "source": "train.dtypes",
   "id": "2f4d4d6e744fb47e",
   "outputs": [],
   "execution_count": null
  },
  {
   "metadata": {},
   "cell_type": "code",
   "source": [
    "# 신용등급에 따라 자녀 수 차이 존재?\n",
    "num_plot(\"child_num\")"
   ],
   "id": "1a9fb4094ad8db29",
   "outputs": [],
   "execution_count": null
  },
  {
   "metadata": {},
   "cell_type": "markdown",
   "source": "credit2에서 x축이 다른 데이터셋들과 분포가 다르다.",
   "id": "2900c17b7719c0a6"
  },
  {
   "metadata": {},
   "cell_type": "code",
   "source": [
    "plt.boxplot([train_0['child_num'], train_1['child_num'], train_2['child_num']])\n",
    "plt.xticks([1,2,3], ['credit 0', 'credit 1', 'credit 2'])\n",
    "plt.show()"
   ],
   "id": "d06b8554e7167c98",
   "outputs": [],
   "execution_count": null
  },
  {
   "metadata": {},
   "cell_type": "markdown",
   "source": "credit 2에 이상치가 존재한다.",
   "id": "c3cefe2ba75a86d2"
  },
  {
   "metadata": {},
   "cell_type": "code",
   "source": [
    "# 신용 등급에 따른 연간 소득 차이 존재?\n",
    "num_plot(\"income_total\")"
   ],
   "id": "dbf1c80c77237e2c",
   "outputs": [],
   "execution_count": null
  },
  {
   "metadata": {},
   "cell_type": "code",
   "source": [
    "# 신용 등급에 따른 연령대 차이 존재?\n",
    "train_0['Age'] = abs(train_0['DAYS_BIRTH'])/360\n",
    "train_1['Age'] = abs(train_1['DAYS_BIRTH'])/360\n",
    "train_2['Age'] = abs(train_2['DAYS_BIRTH'])/360\n",
    "train_0['Age'].head()"
   ],
   "id": "367569ec18319c2e",
   "outputs": [],
   "execution_count": null
  },
  {
   "metadata": {},
   "cell_type": "code",
   "source": [
    "# 신용 등급에 따른 연령대 차이 존재?\n",
    "train_0 = train_0.astype({'Age':'int'})\n",
    "train_1 = train_1.astype({'Age':'int'})\n",
    "train_2 = train_2.astype({'Age':'int'})\n",
    "train_0['Age'].head()"
   ],
   "id": "413a7c5bcdfb5e4e",
   "outputs": [],
   "execution_count": null
  },
  {
   "metadata": {},
   "cell_type": "code",
   "source": "num_plot(\"Age\")",
   "id": "f6b9c1b4fe2d7bcc",
   "outputs": [],
   "execution_count": null
  },
  {
   "metadata": {},
   "cell_type": "code",
   "source": [
    "# 신용 등급에 따른 업무 기간 차이 존재?\n",
    "train_0['EMPLOYED'] = train_0['DAYS_EMPLOYED'].map(lambda x: 0 if x>0 else x)\n",
    "train_1['EMPLOYED']= train_1['DAYS_EMPLOYED'].map(lambda x: 0 if x>0 else x)\n",
    "train_2['EMPLOYED']= train_2['DAYS_EMPLOYED'].map(lambda x: 0 if x>0 else x)\n",
    "train_0['EMPLOYED'] = abs(train_0['EMPLOYED'])/360\n",
    "train_1['EMPLOYED'] = abs(train_1['EMPLOYED'])/360\n",
    "train_2['EMPLOYED'] = abs(train_2['EMPLOYED'])/360\n",
    "train_0['EMPLOYED'].head()"
   ],
   "id": "ea6a6f2bd2551d8e",
   "outputs": [],
   "execution_count": null
  },
  {
   "metadata": {},
   "cell_type": "code",
   "source": [
    "train_0 = train_0.astype({'EMPLOYED': 'int'})\n",
    "train_1 = train_1.astype({'EMPLOYED': 'int'})\n",
    "train_2 = train_2.astype({'EMPLOYED': 'int'})"
   ],
   "id": "2c29e8a64ce96ab0",
   "outputs": [],
   "execution_count": null
  },
  {
   "metadata": {},
   "cell_type": "code",
   "source": "num_plot('EMPLOYED')",
   "id": "c06d8ce3bc65d455",
   "outputs": [],
   "execution_count": null
  },
  {
   "metadata": {},
   "cell_type": "code",
   "source": "num_plot('family_size')",
   "id": "56e735a790e0517f",
   "outputs": [],
   "execution_count": null
  },
  {
   "metadata": {},
   "cell_type": "code",
   "source": [
    "# 신용 등급에 따른 카드 발급 기간 차이 존재?\n",
    "train_0['Month'] = abs(train_0['begin_month'])\n",
    "train_1['Month'] = abs(train_1['begin_month'])\n",
    "train_2['Month'] = abs(train_2['begin_month'])\n",
    "train_0 = train_0.astype({'Month': 'int'})\n",
    "train_1 = train_1.astype({'Month': 'int'})\n",
    "train_2 = train_2.astype({'Month': 'int'})\n",
    "train_0['Month'].head()"
   ],
   "id": "1534ec2ae50c7f91",
   "outputs": [],
   "execution_count": null
  },
  {
   "metadata": {},
   "cell_type": "code",
   "source": "num_plot(\"Month\")",
   "id": "251af9152d6da25e",
   "outputs": [],
   "execution_count": null
  },
  {
   "metadata": {},
   "cell_type": "markdown",
   "source": [
    "EDA 결과,\n",
    "높은 등급(0)은 학생이 없다.\n",
    "부동산 중개자의 경우 신용 등급이 높을 확률이 크다.\n",
    "반대로, HR staff의 경우 신용 등급이 낮을 확률이 크다.\n",
    "\n",
    "말고는 유의미한 관계가 보이지 않음 -> 변수들을 합친 **파생 변수** 생성"
   ],
   "id": "74b9a3b13eb58e89"
  },
  {
   "metadata": {},
   "cell_type": "markdown",
   "source": "# 모델 학습 준비",
   "id": "71cea7a68e47c703"
  },
  {
   "metadata": {},
   "cell_type": "code",
   "source": [
    "# 결측치 처리\n",
    "train = original\n",
    "train.fillna('NaN', inplace=True)\n",
    "test.fillna('Nan', inplace=True)"
   ],
   "id": "805b47a5b401eb0b",
   "outputs": [],
   "execution_count": null
  },
  {
   "metadata": {},
   "cell_type": "code",
   "source": [
    "# 이상치 처리\n",
    "train = train[(train['family_size'] <= 7)]\n",
    "train = train.reset_index(drop=True)"
   ],
   "id": "b31d3480775dc2b3",
   "outputs": [],
   "execution_count": null
  },
  {
   "metadata": {},
   "cell_type": "markdown",
   "source": "### Feature Engineering",
   "id": "b055789be0a746af"
  },
  {
   "metadata": {},
   "cell_type": "code",
   "source": [
    "# 이상치 제거\n",
    "train = train[(train['family_size'] <= 7)]\n",
    "train = train.reset_index(drop=True)"
   ],
   "id": "6acbd7f5c3b30c6f",
   "outputs": [],
   "execution_count": null
  },
  {
   "metadata": {},
   "cell_type": "code",
   "source": [
    "# 의미 없는 변수 제거\n",
    "train.drop(['index', 'FLAG_MOBIL'],axis=1,inplace=True)\n",
    "test.drop(['index', 'FLAG_MOBIL'],axis=1,inplace=True)"
   ],
   "id": "753fff57a84e4e0a",
   "outputs": [],
   "execution_count": null
  },
  {
   "metadata": {},
   "cell_type": "code",
   "source": [
    "# 양수 데이터 -> 현재 무직자 판단, 0처리\n",
    "train['DAYS_EMPLOYED'] = train['DAYS_EMPLOYED'].map(lambda x: 0 if x > 0 else x)\n",
    "test['DAYS_EMPLOYED'] = test['DAYS_EMPLOYED'].map(lambda x: 0 if x > 0 else x)"
   ],
   "id": "33759c57eb44812f",
   "outputs": [],
   "execution_count": null
  },
  {
   "metadata": {},
   "cell_type": "code",
   "source": [
    "# 음수 -> 양수 변환\n",
    "feats = ['DAYS_BIRTH', 'begin_month', 'DAYS_EMPLOYED']\n",
    "for feat in feats:\n",
    "    train[feat]=np.abs(train[feat])\n",
    "    test[feat]=np.abs(test[feat])"
   ],
   "id": "2173ea7fa4bf9b9e",
   "outputs": [],
   "execution_count": null
  },
  {
   "metadata": {},
   "cell_type": "code",
   "source": "train.head()",
   "id": "db7a4d97f316a6de",
   "outputs": [],
   "execution_count": null
  },
  {
   "metadata": {},
   "cell_type": "code",
   "source": [
    "def getDistinctValues(columnName : str) :\n",
    "    print(train[columnName].unique())"
   ],
   "id": "62e4793b99529f0e",
   "outputs": [],
   "execution_count": null
  },
  {
   "metadata": {},
   "cell_type": "code",
   "source": "plt.boxplot(train[['child_num', 'family_size']])",
   "id": "668f0b0fc875b87b",
   "outputs": [],
   "execution_count": null
  },
  {
   "metadata": {},
   "cell_type": "code",
   "source": "train['family_size'].unique()",
   "id": "25603b704497f50",
   "outputs": [],
   "execution_count": null
  },
  {
   "metadata": {},
   "cell_type": "code",
   "source": "getDistinctValues('occyp_type')",
   "id": "5710689e40257649",
   "outputs": [],
   "execution_count": null
  },
  {
   "metadata": {},
   "cell_type": "markdown",
   "source": [
    "- 중복 데이터 존재 -> 파생변수 생성\n",
    "- numeric -> 최대한 다양한 특징\n",
    "- category -> 전체 변수를 합친 값이 logloss가 낮음"
   ],
   "id": "c7c68dd928fded45"
  },
  {
   "metadata": {},
   "cell_type": "markdown",
   "source": [
    "### **logloss**\n",
    "- logloss = 분류 문제의 평가지표로, 교차 엔트로피라고도 한다.\n",
    "- 실제 값을 예측하는 확률에 로그를 취해 부호를 반전시킨 값.\n",
    "- 즉, 분류 모델 자체의 잘못 분류된 수치적인 손실값(loss)을 계산\n",
    "- **logloss는 낮을수록 좋은 지표**\n",
    "- **0에 가까울수록 정확하다.**\n",
    "- 모델이 그 값에 얼마나 확신하는지"
   ],
   "id": "1d15d423a9b02787"
  },
  {
   "metadata": {},
   "cell_type": "code",
   "source": [
    "for df in [train,test]:\n",
    "    # before_EMPLOYED: 고용되기 전까지의 일수\n",
    "    df['before_EMPLOYED'] = df['DAYS_BIRTH'] - df['DAYS_EMPLOYED']\n",
    "    df['income_total_befofeEMP_ratio'] = df['income_total'] / df['before_EMPLOYED']\n",
    "    df['before_EMPLOYED_m'] = np.floor(df['before_EMPLOYED'] / 30) - ((np.floor(df['before_EMPLOYED'] / 30) / 12).astype(int) * 12)\n",
    "    df['before_EMPLOYED_w'] = np.floor(df['before_EMPLOYED'] / 7) - ((np.floor(df['before_EMPLOYED'] / 7) / 4).astype(int) * 4)\n",
    "    \n",
    "    #DAYS_BIRTH 파생변수- Age(나이), 태어난 월, 태어난 주(출생연도의 n주차)\n",
    "    df['Age'] = df['DAYS_BIRTH'] // 365\n",
    "    df['DAYS_BIRTH_m'] = np.floor(df['DAYS_BIRTH'] / 30) - ((np.floor(df['DAYS_BIRTH'] / 30) / 12).astype(int) * 12)\n",
    "    df['DAYS_BIRTH_w'] = np.floor(df['DAYS_BIRTH'] / 7) - ((np.floor(df['DAYS_BIRTH'] / 7) / 4).astype(int) * 4)\n",
    "\n",
    "    \n",
    "    #DAYS_EMPLOYED_m 파생변수- EMPLOYED(근속연수), DAYS_EMPLOYED_m(고용된 달) ,DAYS_EMPLOYED_w(고용된 주(고용연도의 n주차))  \n",
    "    df['EMPLOYED'] = df['DAYS_EMPLOYED'] // 365\n",
    "    df['DAYS_EMPLOYED_m'] = np.floor(df['DAYS_EMPLOYED'] / 30) - ((np.floor(df['DAYS_EMPLOYED'] / 30) / 12).astype(int) * 12)\n",
    "    df['DAYS_EMPLOYED_w'] = np.floor(df['DAYS_EMPLOYED'] / 7) - ((np.floor(df['DAYS_EMPLOYED'] / 7) / 4).astype(int) * 4)\n",
    "\n",
    "    #ability: 소득/(살아온 일수+ 근무일수)\n",
    "    df['ability'] = df['income_total'] / (df['DAYS_BIRTH'] + df['DAYS_EMPLOYED'])\n",
    "    \n",
    "    #income_mean: 소득/ 가족 수\n",
    "    df['income_mean'] = df['income_total'] / df['family_size']\n",
    "    \n",
    "    #unique 생성: 각 컬럼의 값들을 더해서 고유한 사람을 파악(*한 사람이 여러 개 카드를 만들 가능성을 고려해 begin_month는 제외함)\n",
    "    df['unique'] = \\\n",
    "    df['child_num'].astype(str) + '_' + df['income_total'].astype(str) + '_' +\\\n",
    "    df['DAYS_BIRTH'].astype(str) + '_' + df['DAYS_EMPLOYED'].astype(str) + '_' +\\\n",
    "    df['family_size'].astype(str) + '_' +\\\n",
    "    df['gender'].astype(str) + '_' + df['car'].astype(str) + '_' +\\\n",
    "    df['reality'].astype(str) + '_' + df['income_type'].astype(str) + '_' +\\\n",
    "    df['edu_type'].astype(str) + '_' + df['family_type'].astype(str) + '_' +\\\n",
    "    df['house_type'].astype(str) + '_' + df['occyp_type'].astype(str)\n"
   ],
   "id": "c6a70a218aac9d2b",
   "outputs": [],
   "execution_count": null
  },
  {
   "metadata": {},
   "cell_type": "code",
   "source": "train.head()",
   "id": "eeb966a49fc3b75f",
   "outputs": [],
   "execution_count": null
  },
  {
   "metadata": {},
   "cell_type": "code",
   "source": [
    "# 파생 변수와 다중 공선을 보이는 컬럼 삭제\n",
    "cols = ['child_num', 'DAYS_BIRTH', 'DAYS_EMPLOYED',]\n",
    "train.drop(cols, axis=1, inplace=True)\n",
    "test.drop(cols, axis=1, inplace=True)"
   ],
   "id": "8549926ec9e51a89",
   "outputs": [],
   "execution_count": null
  },
  {
   "metadata": {},
   "cell_type": "markdown",
   "source": "## Scailing, Encoding",
   "id": "d0b7963f7a2af388"
  },
  {
   "metadata": {},
   "cell_type": "code",
   "source": "train['credit'] = train['credit'].astype('int64')",
   "id": "a062ffb080e08345",
   "outputs": [],
   "execution_count": null
  },
  {
   "metadata": {},
   "cell_type": "code",
   "source": [
    "# Numeric, Category 컬럼 분류\n",
    "numerical_feats = train.dtypes[train.dtypes != \"object\"].index.tolist()\n",
    "numerical_feats.remove('credit')\n",
    "print(\"Number of Numerical features: \", len(numerical_feats))\n",
    "\n",
    "categorical_feats = train.dtypes[train.dtypes == \"object\"].index.tolist()\n",
    "print(\"Number of Categorical features: \", len(categorical_feats))"
   ],
   "id": "196a584f4c5c503a",
   "outputs": [],
   "execution_count": null
  },
  {
   "metadata": {},
   "cell_type": "code",
   "source": "numerical_feats",
   "id": "4e9f768c5e8b6075",
   "outputs": [],
   "execution_count": null
  },
  {
   "metadata": {},
   "cell_type": "code",
   "source": "categorical_feats",
   "id": "8a36c2ec0c46b572",
   "outputs": [],
   "execution_count": null
  },
  {
   "metadata": {},
   "cell_type": "code",
   "source": [
    "# Log Scale\n",
    "for df in [train, test]:\n",
    "    df['income_total']=np.log1p(1+df['income_total'])"
   ],
   "id": "9b1f3aaa92bcbdeb",
   "outputs": [],
   "execution_count": null
  },
  {
   "metadata": {},
   "cell_type": "code",
   "source": "numerical_feats.append('income_total')",
   "id": "21ddff71a7c5cc25",
   "outputs": [],
   "execution_count": null
  },
  {
   "metadata": {},
   "cell_type": "code",
   "source": [
    "# Ordinal Encoder 변환 -> 범주가 많아서 one hot encoding은 부적절함.\n",
    "from category_encoders import OrdinalEncoder\n",
    "encoder = OrdinalEncoder(categorical_feats)\n",
    "train[categorical_feats]=encoder.fit_transform(train[categorical_feats],train['credit'])\n",
    "test[categorical_feats]=encoder.transform(test[categorical_feats])\n",
    "\n",
    "train['unique'] = train['unique'].astype('int64')\n",
    "test['unique'] = test['unique'].astype('int64')"
   ],
   "id": "fcb6cab2f6ed7e9a",
   "outputs": [],
   "execution_count": null
  },
  {
   "metadata": {},
   "cell_type": "code",
   "source": [
    "# 인코더 저장\n",
    "import pickle\n",
    "\n",
    "# 모델을 파일로 저장\n",
    "with open('encoder.pkl', 'wb') as file:\n",
    "    pickle.dump(encoder, file)"
   ],
   "id": "7435cecd884570a2",
   "outputs": [],
   "execution_count": null
  },
  {
   "metadata": {},
   "cell_type": "code",
   "source": "train.head()",
   "id": "2d2100f5119f4cc8",
   "outputs": [],
   "execution_count": null
  },
  {
   "metadata": {},
   "cell_type": "markdown",
   "source": "",
   "id": "1e8cbfa7c489813d"
  },
  {
   "metadata": {},
   "cell_type": "markdown",
   "source": "### 타겟을 결정짓는 뚜렷한 특징을 가진 feature X -> clustering",
   "id": "c8a9ca1fa2d7502"
  },
  {
   "metadata": {},
   "cell_type": "code",
   "source": [
    "from sklearn.cluster import KMeans\n",
    "kmeans_train = train.drop(['credit'], axis=1)\n",
    "kmeans = KMeans(n_clusters=36, random_state=42).fit(kmeans_train)\n",
    "train['cluster'] = kmeans.predict(kmeans_train)\n",
    "test['cluster'] = kmeans.predict(test)"
   ],
   "id": "e455fe98d8859a48",
   "outputs": [],
   "execution_count": null
  },
  {
   "metadata": {},
   "cell_type": "code",
   "source": [
    "import pickle\n",
    "\n",
    "# 모델을 파일로 저장\n",
    "with open('kmeans.pkl', 'wb') as file:\n",
    "    pickle.dump(kmeans, file)"
   ],
   "id": "c5bbd6662becf95a",
   "outputs": [],
   "execution_count": null
  },
  {
   "metadata": {},
   "cell_type": "code",
   "source": "numerical_feats",
   "id": "ad975f0b496d8045",
   "outputs": [],
   "execution_count": null
  },
  {
   "metadata": {},
   "cell_type": "code",
   "source": [
    "# 로그 변환을 진행한 income_toal을 제외한 나머지 numeric 컬럼 정규화\n",
    "from sklearn.preprocessing import StandardScaler\n",
    "numerical_feats.remove('income_total')\n",
    "scaler = StandardScaler()\n",
    "train[numerical_feats] = scaler.fit_transform(train[numerical_feats])\n",
    "test[numerical_feats] = scaler.transform(test[numerical_feats])"
   ],
   "id": "4684296a65eef75f",
   "outputs": [],
   "execution_count": null
  },
  {
   "metadata": {},
   "cell_type": "code",
   "source": [
    "import pickle\n",
    "with open('scaler.pkl', 'wb') as file:\n",
    "    pickle.dump(scaler, file)"
   ],
   "id": "8b5d0ee50241fa9f",
   "outputs": [],
   "execution_count": null
  },
  {
   "metadata": {},
   "cell_type": "markdown",
   "source": [
    "# Modeling - catboost\n",
    "### **catboost?**\n",
    "- Sequential한 특성을 가진 boosting 계열 모델이다.\n",
    "- 속도 개선 로직과 정규화 방법을 보유한 모델이며, 트리를 boosting해나갈 때 level-wise(BFS)로 확장해나간다.\n",
    "- 모든 훈련 데이터를 대상으로 잔차계산을 하는 것이 아닌 일부만으로 잔차계산을 한 뒤 모델을 다시 만들게 된다."
   ],
   "id": "4485665fb1c9c182"
  },
  {
   "metadata": {},
   "cell_type": "markdown",
   "source": [
    "**fold 선택**\n",
    "- 최적 fold -> 15\n",
    "- parameter -> default"
   ],
   "id": "4fa46939b26ca2d3"
  },
  {
   "metadata": {},
   "cell_type": "code",
   "source": [
    "n_est = 2000\n",
    "seed = 42\n",
    "n_fold = 15\n",
    "n_class = 3\n",
    "\n",
    "target = 'credit'\n",
    "X = train.drop(target, axis=1)\n",
    "y = train[target]\n",
    "X_test = test"
   ],
   "id": "6836f5ba70c1e9be",
   "outputs": [],
   "execution_count": null
  },
  {
   "metadata": {},
   "cell_type": "code",
   "source": "test['occyp_type'] = test['occyp_type'].astype('int64')",
   "id": "79707c5ef22b125f",
   "outputs": [],
   "execution_count": null
  },
  {
   "metadata": {},
   "cell_type": "code",
   "source": "train.head()",
   "id": "ccbdaa80e4cd586",
   "outputs": [],
   "execution_count": null
  },
  {
   "metadata": {},
   "cell_type": "code",
   "source": [
    "from catboost import CatBoostClassifier, Pool\n",
    "from sklearn.model_selection import StratifiedKFold\n",
    "from sklearn.metrics import log_loss\n",
    "import warnings, random\n",
    "warnings.filterwarnings(action='ignore')\n",
    "skfold = StratifiedKFold(n_splits=n_fold, shuffle=True, random_state=seed)\n",
    "folds=[]\n",
    "for train_idx, valid_idx in skfold.split(X, y):\n",
    "        folds.append((train_idx, valid_idx))\n",
    "\n",
    "cat_pred = np.zeros((X.shape[0], n_class))\n",
    "cat_pred_test = np.zeros((X_test.shape[0], n_class))\n",
    "cat_cols = ['income_type', 'edu_type', 'family_type', 'house_type', 'occyp_type', 'unique']\n",
    "best_log_loss = float('inf')\n",
    "model = None\n",
    "for fold in range(n_fold):\n",
    "  print(f'\\n----------------- Fold {fold} -----------------\\n')\n",
    "  train_idx, valid_idx = folds[fold]\n",
    "  X_train, X_valid, y_train, y_valid = X.iloc[train_idx], X.iloc[valid_idx], y[train_idx], y[valid_idx]\n",
    "  train_data = Pool(data=X_train, label=y_train, cat_features=cat_cols)\n",
    "  valid_data = Pool(data=X_valid, label=y_valid, cat_features=cat_cols)\n",
    "  \n",
    "\n",
    "  model_cat = CatBoostClassifier()\n",
    "  model_cat.fit(train_data, eval_set=valid_data, use_best_model=True, early_stopping_rounds=100, verbose=100)\n",
    "  \n",
    "  cat_pred[valid_idx] = model_cat.predict_proba(X_valid)\n",
    "  cat_pred_test += model_cat.predict_proba(X_test) / n_fold\n",
    "  current_log_loss = log_loss(y_valid, cat_pred[valid_idx])\n",
    "  print(f'CV Log Loss Score: {current_log_loss:.6f}')\n",
    "  if current_log_loss < best_log_loss:\n",
    "        best_log_loss = current_log_loss\n",
    "        model = model_cat\n",
    "    \n",
    "print(f'\\tLog Loss: {log_loss(y, cat_pred):.6f}')"
   ],
   "id": "a5e3ecb7e54908cd",
   "outputs": [],
   "execution_count": null
  },
  {
   "metadata": {},
   "cell_type": "code",
   "source": [
    "cat = CatBoostClassifier(n_estimators=443, max_depth=8, random_seed=2, learning_rate =0.04, bootstrap_type ='Bernoulli')\n",
    "cat.fit(X_train, y_train, cat_features=cat_cols, verbose=50)\n",
    "test_predictions = cat.predict_proba(test)"
   ],
   "id": "3a5d701598cee4de",
   "outputs": [],
   "execution_count": null
  },
  {
   "metadata": {},
   "cell_type": "markdown",
   "source": [
    "### Feature Importance\n",
    "- unique의 중요도가 상당히 높게 나옴"
   ],
   "id": "f35c03a557a72920"
  },
  {
   "metadata": {},
   "cell_type": "code",
   "source": [
    "def plot_feature_importance(importance,names,model_type):\n",
    "    \n",
    "    feature_importance = np.array(importance)\n",
    "    feature_names = np.array(names)\n",
    "    \n",
    "    data={'feature_names':feature_names,'feature_importance':feature_importance}\n",
    "    fi_df = pd.DataFrame(data)\n",
    "    \n",
    "    fi_df.sort_values(by=['feature_importance'], ascending=False,inplace=True)\n",
    "\n",
    "    plt.figure(figsize=(10,8))\n",
    "\n",
    "    sns.barplot(x=fi_df['feature_importance'], y=fi_df['feature_names'])\n",
    "\n",
    "    plt.title(model_type + ' Feature Importance')\n",
    "    plt.xlabel('Feature Importance')\n",
    "    plt.ylabel('Feature Names')"
   ],
   "id": "46d170da0353a219",
   "outputs": [],
   "execution_count": null
  },
  {
   "metadata": {},
   "cell_type": "code",
   "source": "plot_feature_importance(model_cat.get_feature_importance(),X_test.columns,'CATBOOST')",
   "id": "66f2586c5796f649",
   "outputs": [],
   "execution_count": null
  },
  {
   "metadata": {},
   "cell_type": "code",
   "source": "",
   "id": "15757da05b1af18",
   "outputs": [],
   "execution_count": null
  },
  {
   "metadata": {},
   "cell_type": "code",
   "source": "",
   "id": "4a0ca662f9009dff",
   "outputs": [],
   "execution_count": null
  },
  {
   "metadata": {},
   "cell_type": "code",
   "source": [
    "import pickle\n",
    "\n",
    "# 모델을 파일로 저장\n",
    "with open('model.pkl', 'wb') as file:\n",
    "    pickle.dump(cat, file)"
   ],
   "id": "dc391a8fa5fafae7",
   "outputs": [],
   "execution_count": null
  },
  {
   "metadata": {},
   "cell_type": "code",
   "source": "df = pd.read_csv('../../dataset/test.csv').iloc[0].to_frame()",
   "id": "5aff9e31e728a04c",
   "outputs": [],
   "execution_count": null
  },
  {
   "metadata": {},
   "cell_type": "code",
   "source": "df.head()",
   "id": "c5d885577d34e240",
   "outputs": [],
   "execution_count": null
  },
  {
   "metadata": {},
   "cell_type": "markdown",
   "source": "# 함수 테스트",
   "id": "5ceb4d3e694c795f"
  },
  {
   "metadata": {},
   "cell_type": "code",
   "source": [
    "from pydantic import BaseModel\n",
    "class Customer(BaseModel):\n",
    "    gender: str\n",
    "    car: str\n",
    "    reality: str\n",
    "    child_num: int\n",
    "    income_total: float\n",
    "    income_type: str\n",
    "    edu_type: str\n",
    "    family_type: str \n",
    "    house_type: str\n",
    "    DAYS_BIRTH: int\n",
    "    DAYS_EMPLOYED: int\n",
    "    work_phone: int\n",
    "    phone : int\n",
    "    email: int\n",
    "    occyp_type: str\n",
    "    family_size: float\n",
    "    begin_month: float"
   ],
   "id": "7e40724efd29dd90",
   "outputs": [],
   "execution_count": null
  },
  {
   "metadata": {},
   "cell_type": "code",
   "source": [
    "async def predict(customer: Customer):\n",
    "    data_dict = customer.dict()\n",
    "    df = pd.DataFrame([data_dict])\n",
    "    df.head()\n",
    "    # before_EMPLOYED: 고용되기 전까지의 일수\n",
    "    df['before_EMPLOYED'] = df['DAYS_BIRTH'] - df['DAYS_EMPLOYED']\n",
    "    df['income_total_befofeEMP_ratio'] = df['income_total'] / df['before_EMPLOYED']\n",
    "    df['before_EMPLOYED_m'] = np.floor(df['before_EMPLOYED'] / 30) - ((np.floor(df['before_EMPLOYED'] / 30) / 12).astype(int) * 12)\n",
    "    df['before_EMPLOYED_w'] = np.floor(df['before_EMPLOYED'] / 7) - ((np.floor(df['before_EMPLOYED'] / 7) / 4).astype(int) * 4)\n",
    "    \n",
    "    #DAYS_BIRTH 파생변수- Age(나이), 태어난 월, 태어난 주(출생연도의 n주차)\n",
    "    df['Age'] = df['DAYS_BIRTH'] // 365\n",
    "    df['DAYS_BIRTH_m'] = np.floor(df['DAYS_BIRTH'] / 30) - ((np.floor(df['DAYS_BIRTH'] / 30) / 12).astype(int) * 12)\n",
    "    df['DAYS_BIRTH_w'] = np.floor(df['DAYS_BIRTH'] / 7) - ((np.floor(df['DAYS_BIRTH'] / 7) / 4).astype(int) * 4)\n",
    "\n",
    "    \n",
    "    #DAYS_EMPLOYED_m 파생변수- EMPLOYED(근속연수), DAYS_EMPLOYED_m(고용된 달) ,DAYS_EMPLOYED_w(고용된 주(고용연도의 n주차))  \n",
    "    df['EMPLOYED'] = df['DAYS_EMPLOYED'] // 365\n",
    "    df['DAYS_EMPLOYED_m'] = np.floor(df['DAYS_EMPLOYED'] / 30) - ((np.floor(df['DAYS_EMPLOYED'] / 30) / 12).astype(int) * 12)\n",
    "    df['DAYS_EMPLOYED_w'] = np.floor(df['DAYS_EMPLOYED'] / 7) - ((np.floor(df['DAYS_EMPLOYED'] / 7) / 4).astype(int) * 4)\n",
    "\n",
    "    #ability: 소득/(살아온 일수+ 근무일수)\n",
    "    df['ability'] = df['income_total'] / (df['DAYS_BIRTH'] + df['DAYS_EMPLOYED'])\n",
    "    \n",
    "    #income_mean: 소득/ 가족 수\n",
    "    df['income_mean'] = df['income_total'] / df['family_size']\n",
    "    \n",
    "    #unique 생성: 각 컬럼의 값들을 더해서 고유한 사람을 파악(*한 사람이 여러 개 카드를 만들 가능성을 고려해 begin_month는 제외함)\n",
    "    df['unique'] = \\\n",
    "    df['child_num'].astype(str) + '_' + df['income_total'].astype(str) + '_' +\\\n",
    "    df['DAYS_BIRTH'].astype(str) + '_' + df['DAYS_EMPLOYED'].astype(str) + '_' +\\\n",
    "    df['family_size'].astype(str) + '_' +\\\n",
    "    df['gender'].astype(str) + '_' + df['car'].astype(str) + '_' +\\\n",
    "    df['reality'].astype(str) + '_' + df['income_type'].astype(str) + '_' +\\\n",
    "    df['edu_type'].astype(str) + '_' + df['family_type'].astype(str) + '_' +\\\n",
    "    df['house_type'].astype(str) + '_' + df['occyp_type'].astype(str)\n",
    "    \n",
    "    cols = ['child_num', 'DAYS_BIRTH', 'DAYS_EMPLOYED',]\n",
    "    df.drop(cols, axis=1, inplace=True)\n",
    "    \n",
    "    numerical_feats = df.dtypes[df.dtypes != \"object\"].index.tolist()\n",
    "    categorical_feats = df.dtypes[df.dtypes == \"object\"].index.tolist()\n",
    "    \n",
    "    df['income_total']=np.log1p(1+df['income_total'])\n",
    "    \n",
    "    numerical_feats.append('income_total')\n",
    "    \n",
    "    df[categorical_feats]=encoder.transform(df[categorical_feats])\n",
    "    df['unique'] = df['unique'].astype('int64')\n",
    "    \n",
    "    \n",
    "    df['cluster'] = kmeans.predict(df)\n",
    "    \n",
    "    numerical_feats.remove('income_total')\n",
    "    df[numerical_feats] = scaler.transform(df[numerical_feats])\n",
    "    \n",
    "    df['occyp_type'] = df['occyp_type'].astype('int64')\n",
    "\n",
    "    cat_cols = ['income_type', 'edu_type', 'family_type', 'house_type', 'occyp_type', 'unique']\n",
    "# Pool 객체 생성\n",
    "    pool = Pool(data=df, cat_features=cat_cols)\n",
    "    # credit = model.predict(df.iloc[0])\n",
    "    # 모델 예측\n",
    "    credit = cat.predict(pool)\n",
    "    \n",
    "    # 예측 결과를 스칼라 값으로 반환\n",
    "    credit = int(credit[0])  # NumPy 배열 또는 리스트에서 스칼라 값 추출\n",
    "    return JSONResponse({\n",
    "        \"credit\": credit\n",
    "    })\n"
   ],
   "id": "4bcd9fac4d84c70a",
   "outputs": [],
   "execution_count": null
  },
  {
   "metadata": {},
   "cell_type": "code",
   "source": [
    "# 임시 데이터 생성\n",
    "test_customer = Customer(\n",
    "    gender=\"F\",\n",
    "    car=\"N\",\n",
    "    reality=\"Y\",\n",
    "    child_num=0,\n",
    "    income_total=202500.0,\n",
    "    income_type=\"Commercial associate\",\n",
    "    edu_type=\"Secondary / secondary special\",\n",
    "    family_type=\"Married\",\n",
    "    house_type=\"House / apartment\",\n",
    "    work_phone=0,\n",
    "    phone=1,\n",
    "    email=0,\n",
    "    occyp_type=\"Sales staff\",\n",
    "    family_size=2.0,\n",
    "    begin_month=37,\n",
    "    DAYS_BIRTH=15088,\n",
    "    DAYS_EMPLOYED=2092\n",
    ")\n"
   ],
   "id": "2c5865c9514a4e99",
   "outputs": [],
   "execution_count": null
  },
  {
   "metadata": {},
   "cell_type": "code",
   "source": [
    "# predict 함수를 정의하고 있는 가정하에, 이 함수를 호출\n",
    "result = await predict(test_customer)\n"
   ],
   "id": "fe7f395873d3e6a5",
   "outputs": [],
   "execution_count": null
  },
  {
   "metadata": {},
   "cell_type": "code",
   "source": "from starlette.responses import JSONResponse",
   "id": "f5d2e97bd0a6697",
   "outputs": [],
   "execution_count": null
  },
  {
   "metadata": {},
   "cell_type": "code",
   "source": "",
   "id": "8257634caab5c793",
   "outputs": [],
   "execution_count": null
  }
 ],
 "metadata": {
  "kernelspec": {
   "display_name": "loanplease(python3.9)",
   "language": "python",
   "name": "loanplease"
  },
  "language_info": {
   "codemirror_mode": {
    "name": "ipython",
    "version": 2
   },
   "file_extension": ".py",
   "mimetype": "text/x-python",
   "name": "python",
   "nbconvert_exporter": "python",
   "pygments_lexer": "ipython2",
   "version": "2.7.6"
  }
 },
 "nbformat": 4,
 "nbformat_minor": 5
}
