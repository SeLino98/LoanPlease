from catboost import CatBoostClassifier, Pool
from fastapi import FastAPI
from pydantic import BaseModel
from starlette.responses import JSONResponse
import joblib
import pandas as pd
import numpy as np

# 앱과 모델 초기화
app = FastAPI(title="Loan Please API")

# 모델 로드
model = joblib.load("./model.pkl")
# 인코더 로드
encoder = joblib.load('./encoder.pkl')
# kmeans 모델 로드
kmeans = joblib.load('./kmeans.pkl')
# scaler 로드
scaler = joblib.load('./scaler.pkl')

# 입력 데이터 모델
class Customer(BaseModel):
    gender: str
    car: str
    reality: str
    child_num: int
    income_total: float
    income_type: str
    edu_type: str
    family_type: str
    house_type: str
    DAYS_BIRTH: int
    DAYS_EMPLOYED: int
    work_phone: int
    phone : int
    email: int
    occyp_type: str
    family_size: float
    begin_month: float

# 예측을 위한 경로
@app.post("/model")
async def predict(customer: Customer):

    data_dict = customer.dict()
    df = pd.DataFrame([data_dict])

    # before_EMPLOYED: 고용되기 전까지의 일수
    df['before_EMPLOYED'] = df['DAYS_BIRTH'] - df['DAYS_EMPLOYED']
    df['income_total_befofeEMP_ratio'] = df['income_total'] / df['before_EMPLOY>
    df['before_EMPLOYED_m'] = np.floor(df['before_EMPLOYED'] / 30) - ((np.floor>
    df['before_EMPLOYED_w'] = np.floor(df['before_EMPLOYED'] / 7) - ((np.floor(>

    #DAYS_BIRTH 파생변수- Age(나이), 태어난 월, 태어난 주(출생연도의 n주차)
    df['Age'] = df['DAYS_BIRTH'] // 365
    df['DAYS_BIRTH_m'] = np.floor(df['DAYS_BIRTH'] / 30) - ((np.floor(df['DAYS_>
    df['DAYS_BIRTH_w'] = np.floor(df['DAYS_BIRTH'] / 7) - ((np.floor(df['DAYS_B>

    #DAYS_EMPLOYED_m 파생변수- EMPLOYED(근속연수), DAYS_EMPLOYED_m(고용된 달) ,>
    df['EMPLOYED'] = df['DAYS_EMPLOYED'] // 365
    df['DAYS_EMPLOYED_m'] = np.floor(df['DAYS_EMPLOYED'] / 30) - ((np.floor(df[>
    df['DAYS_EMPLOYED_w'] = np.floor(df['DAYS_EMPLOYED'] / 7) - ((np.floor(df['>

    #ability: 소득/(살아온 일수+ 근무일수)
    df['ability'] = df['income_total'] / (df['DAYS_BIRTH'] + df['DAYS_EMPLOYED'>

    #income_mean: 소득/ 가족 수
    df['income_mean'] = df['income_total'] / df['family_size']

    #unique 생성: 각 컬럼의 값들을 더해서 고유한 사람을 파악(*한 사람이 여러 개>
    df['unique'] = \
    df['child_num'].astype(str) + '_' + df['income_total'].astype(str) + '_' +\
    df['DAYS_BIRTH'].astype(str) + '_' + df['DAYS_EMPLOYED'].astype(str) + '_' >
    df['family_size'].astype(str) + '_' +\
    df['gender'].astype(str) + '_' + df['car'].astype(str) + '_' +\
    df['reality'].astype(str) + '_' + df['income_type'].astype(str) + '_' +\
    df['edu_type'].astype(str) + '_' + df['family_type'].astype(str) + '_' +\
    df['house_type'].astype(str) + '_' + df['occyp_type'].astype(str)

    cols = ['child_num', 'DAYS_BIRTH', 'DAYS_EMPLOYED',]
    df.drop(cols, axis=1, inplace=True)

    numerical_feats = df.dtypes[df.dtypes != "object"].index.tolist()
    categorical_feats = df.dtypes[df.dtypes == "object"].index.tolist()

    df['income_total']=np.log1p(1+df['income_total'])

    numerical_feats.append('income_total')

    df[categorical_feats]=encoder.transform(df[categorical_feats])
    df['unique'] = df['unique'].astype('int64')


    df['cluster'] = kmeans.predict(df)

    numerical_feats.remove('income_total')
    df[numerical_feats] = scaler.transform(df[numerical_feats])

    df['occyp_type'] = df['occyp_type'].astype('int64')

    cat_cols = ['income_type', 'edu_type', 'family_type', 'house_type', 'occyp_>
    pool = Pool(data=df, cat_features=cat_cols)

    # 모델 예측
    credit = model.predict(pool)

    # 예측 결과를 스칼라 값으로 반환
    credit = int(credit[0])  # NumPy 배열 또는 리스트에서 스칼라 값 추출
    return JSONResponse({
        "credit": credit
    })
